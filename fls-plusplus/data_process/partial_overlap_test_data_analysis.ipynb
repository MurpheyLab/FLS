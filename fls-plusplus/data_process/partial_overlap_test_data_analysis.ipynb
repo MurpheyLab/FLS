{
 "cells": [
  {
   "cell_type": "code",
   "execution_count": 40,
   "id": "6483b304",
   "metadata": {},
   "outputs": [],
   "source": [
    "import numpy as np\n",
    "import re"
   ]
  },
  {
   "cell_type": "code",
   "execution_count": 41,
   "id": "2d0a0abb",
   "metadata": {},
   "outputs": [
    {
     "data": {
      "text/plain": [
       "90.0"
      ]
     },
     "execution_count": 41,
     "metadata": {},
     "output_type": "execute_result"
    }
   ],
   "source": [
    "def getAngularError(R_exp, R_est):\n",
    "    return np.abs(np.arccos(min(max((np.trace(R_exp.T @ R_est) - 1.0)/2, -1.0), 1.0)))\n",
    "\n",
    "\n",
    "getAngularError(np.eye(3), np.array([[1, 0, 0], [0, -1, 0], [0, 0, 1]])) / np.pi * 180"
   ]
  },
  {
   "cell_type": "code",
   "execution_count": 42,
   "id": "327ef6fb",
   "metadata": {},
   "outputs": [],
   "source": [
    "def filter_list(arr, thred):\n",
    "    idx = np.where(np.array(arr) <= thred)\n",
    "    return np.array(arr)[idx]\n",
    "\n",
    "def filter_idx(data, rot_thred=45, trans_thred=0.5):\n",
    "    idx = []\n",
    "    for i in range(len(data[\"rot_err\"])):\n",
    "        if data[\"rot_err\"][i] < rot_thred and data[\"trans_err\"][i] < trans_thred and data[\"runtime\"][i]>0:\n",
    "            idx.append(i)\n",
    "    if len(idx) == 0:\n",
    "        idx = [0]\n",
    "    return np.array(idx)"
   ]
  },
  {
   "cell_type": "code",
   "execution_count": 43,
   "id": "21f204c3",
   "metadata": {},
   "outputs": [],
   "source": [
    "import os\n",
    "\n",
    "model_names = [\"airplane\", \"bed\", \"chair\", \"desk\", \"guitar\", \"mantel\", \"monitor\", \"piano\", \"sofa\", \"stairs\"]\n",
    "\n",
    "test_dir = \"../modelnet40_partial_overlap_test/\"\n",
    "original_dir = \"../ModelNet40_subset/\"\n",
    "\n",
    "noise_levels = [0.0, 0.02, 0.04, 0.06, 0.08, 0.1]\n",
    "noise_levels_2 = [0.02, 0.04, 0.06, 0.08, 0.1]\n",
    "exact_recovery_rot = 5.0\n",
    "exact_recovery_trans = 0.03\n",
    "\n",
    "########################################################\n",
    "algorithms = ['fls']\n",
    "metrics = ['rot_err', 'trans_err', 'runtime', 'exact_recovery', 'failure']\n",
    "labels = [r'$\\bf{FLS(Ours)}$']\n",
    "\n",
    "data = dict({})\n",
    "for noise_level in noise_levels:\n",
    "    data = dict({})\n",
    "    for algo in algorithms:\n",
    "        data[algo] = dict({})\n",
    "        for metric in metrics:\n",
    "            data[algo][metric] = []\n",
    "########################################################\n",
    "\n",
    "\n",
    "for model in model_names:\n",
    "    file_list = os.listdir(original_dir + model + \"/test/\")\n",
    "    for model_file in file_list:\n",
    "        object = model_file.split('.')[0]\n",
    "        filename = original_dir + model + \"/test/\" + object + \".off\"\n",
    "        # subprocess.run([\"find\", filename])\n",
    "\n",
    "        # make dir for the current object\n",
    "        run_dir = test_dir + object + \"/\"\n",
    "\n",
    "        gt_T = np.array([float(ele) for ele in re.split(' |\\n', open(run_dir + \"gt_T.txt\").read())[0:16]]).reshape(4,4)\n",
    "        gt_R = gt_T[0:3, 0:3]\n",
    "        gt_t = gt_T[0:3, 3]\n",
    "\n",
    "        for algo in algorithms:\n",
    "            opt_T = np.loadtxt(run_dir + algo + \"_T.txt\")\n",
    "            opt_R = opt_T[0:3, 0:3]\n",
    "            opt_t = opt_T[0:3, 3]\n",
    "            runtime = np.loadtxt(run_dir + algo + \"_time.txt\")\n",
    "\n",
    "            rot_err = getAngularError(gt_R, opt_R) / np.pi * 180 \n",
    "            if np.isnan(rot_err):\n",
    "                print('nan!')\n",
    "            trans_err = np.linalg.norm(gt_t - opt_t)\n",
    "\n",
    "            exact_recovery = 0\n",
    "            if rot_err < exact_recovery_rot and trans_err < exact_recovery_trans and runtime>0:\n",
    "                exact_recovery = 1\n",
    "\n",
    "            failure = 0\n",
    "            if rot_err > 45 or trans_err > 0.5 or runtime<0:\n",
    "                failure = 1\n",
    "\n",
    "            data[algo]['rot_err'].append(rot_err)\n",
    "            data[algo]['trans_err'].append(trans_err)\n",
    "            data[algo]['runtime'].append(runtime)\n",
    "            data[algo]['exact_recovery'].append(exact_recovery)\n",
    "            data[algo]['failure'].append(failure)"
   ]
  },
  {
   "cell_type": "code",
   "execution_count": 44,
   "id": "6f47a20f",
   "metadata": {},
   "outputs": [
    {
     "name": "stdout",
     "output_type": "stream",
     "text": [
      "\n",
      "================== fls ==================\n",
      "rot_err: 2.288941235499334+-1.6655668250906568\n",
      "trans_err: 0.013758293325726468+-0.007504815380387825\n",
      "runtime: 0.05253222+-0.015789497498387973\n",
      "exact_recovery: 84.0+-0.0\n",
      "failure: 8.0+-0.0\n"
     ]
    }
   ],
   "source": [
    "for algo in algorithms:\n",
    "    print(\"\\n================== {} ==================\".format(algo))\n",
    "    for metric in metrics:\n",
    "        if metric == 'rot_err' or metric == 'trans_err':\n",
    "            metric_mean = np.mean(np.array(data[algo][metric])[filter_idx(data[algo])])\n",
    "            metric_std = np.std(np.array(data[algo][metric])[filter_idx(data[algo])])\n",
    "        elif metric == 'runtime':\n",
    "            metric_mean = np.mean(np.array(data[algo][metric])[np.where(np.array(data[algo][metric])>0)])\n",
    "            metric_std = np.std(np.array(data[algo][metric])[np.where(np.array(data[algo][metric])>0)])\n",
    "        else:\n",
    "            metric_mean = failure_rate = np.mean(data[algo][metric]) * 100\n",
    "            metric_std = 0.0\n",
    "        print(\"{}: {}+-{}\".format(metric, metric_mean, metric_std))"
   ]
  },
  {
   "cell_type": "code",
   "execution_count": null,
   "id": "cd39fb92",
   "metadata": {},
   "outputs": [],
   "source": []
  }
 ],
 "metadata": {
  "kernelspec": {
   "display_name": "Python 3.8.10 64-bit",
   "language": "python",
   "name": "python3"
  },
  "language_info": {
   "codemirror_mode": {
    "name": "ipython",
    "version": 3
   },
   "file_extension": ".py",
   "mimetype": "text/x-python",
   "name": "python",
   "nbconvert_exporter": "python",
   "pygments_lexer": "ipython3",
   "version": "3.8.10"
  },
  "vscode": {
   "interpreter": {
    "hash": "916dbcbb3f70747c44a77c7bcd40155683ae19c65e1c03b4aa3499c5328201f1"
   }
  }
 },
 "nbformat": 4,
 "nbformat_minor": 5
}
